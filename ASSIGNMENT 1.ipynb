{
 "cells": [
  {
   "cell_type": "code",
   "execution_count": 1,
   "metadata": {},
   "outputs": [
    {
     "name": "stdout",
     "output_type": "stream",
     "text": [
      "Twinkle, twinkle, little star,\n",
      "\tHow I wonder what you \t are!\n",
      "\t\tUp above the world so high,\n",
      "\t\tLike a diamond in the sky.\n",
      "Twinkle, twinkle, little star,\n",
      "\tHow I wonder what you are\n"
     ]
    }
   ],
   "source": [
    "print(\"\"\"Twinkle, twinkle, little star,\n",
    "\\tHow I wonder what you \\t are!\n",
    "\\t\\tUp above the world so high,\n",
    "\\t\\tLike a diamond in the sky.\n",
    "Twinkle, twinkle, little star,\n",
    "\\tHow I wonder what you are\"\"\")"
   ]
  },
  {
   "cell_type": "code",
   "execution_count": 2,
   "metadata": {},
   "outputs": [
    {
     "name": "stdout",
     "output_type": "stream",
     "text": [
      "Python version\n",
      "3.7.4 (default, Aug  9 2019, 18:34:13) [MSC v.1915 64 bit (AMD64)]\n",
      "Version info.\n",
      "sys.version_info(major=3, minor=7, micro=4, releaselevel='final', serial=0)\n"
     ]
    }
   ],
   "source": [
    "import sys;\n",
    "print(\"Python version\")\n",
    "print (sys.version)\n",
    "print(\"Version info.\")\n",
    "print (sys.version_info)"
   ]
  },
  {
   "cell_type": "code",
   "execution_count": 3,
   "metadata": {},
   "outputs": [
    {
     "name": "stdout",
     "output_type": "stream",
     "text": [
      "Current Date =  November 05, 2019 Current Time =  12:10:55\n"
     ]
    }
   ],
   "source": [
    "from datetime import datetime\n",
    "today = datetime.today()\n",
    "d = today.strftime(\"%B %d, %Y\")\n",
    "t = today.strftime(\"%H:%M:%S\")\n",
    "print(\"Current Date = \", d + \" Current Time = \", t)"
   ]
  },
  {
   "cell_type": "code",
   "execution_count": 4,
   "metadata": {},
   "outputs": [
    {
     "name": "stdout",
     "output_type": "stream",
     "text": [
      "Enter radius of a circle? 4\n",
      "Area of circle is =  50.26544 m^2\n"
     ]
    }
   ],
   "source": [
    "#program which accepts the radius of a circle from the user and compute the area.\n",
    "radius = int(input(\"Enter radius of a circle? \"))\n",
    "area = 3.14159 * (radius * radius)\n",
    "print(\"Area of circle is = \", area , \"m^2\")"
   ]
  },
  {
   "cell_type": "code",
   "execution_count": 6,
   "metadata": {},
   "outputs": [
    {
     "name": "stdout",
     "output_type": "stream",
     "text": [
      "Enter your first name :Bilal\n",
      "Enter your last name :Shah\n",
      "laliB hahS\n"
     ]
    }
   ],
   "source": [
    "#program which accepts the user's first and last name and print them in reverse order with a space between them.\n",
    "def reverse(s): \n",
    "  str = \"\" \n",
    "  for i in s: \n",
    "    str = i + str\n",
    "  return str\n",
    "\n",
    "firstname = input(\"Enter your first name :\");\n",
    "lastname = input(\"Enter your last name :\");\n",
    "\n",
    "def prfn():\n",
    "    print(reverse(firstname) + \" \" + reverse(lastname));\n",
    "\n",
    "prfn();"
   ]
  },
  {
   "cell_type": "code",
   "execution_count": 7,
   "metadata": {},
   "outputs": [
    {
     "name": "stdout",
     "output_type": "stream",
     "text": [
      "Enter your first value 5\n",
      "Enter your second value 10\n",
      "Result is = 15\n"
     ]
    }
   ],
   "source": [
    "#program which takes two inputs from user and print them addition\n",
    "\n",
    "first = int(input(\"Enter your first value \"));\n",
    "second = int(input(\"Enter your second value \"));\n",
    "\n",
    "res = first + second;\n",
    "print (\"Result is =\", res);"
   ]
  },
  {
   "cell_type": "code",
   "execution_count": null,
   "metadata": {},
   "outputs": [],
   "source": []
  }
 ],
 "metadata": {
  "kernelspec": {
   "display_name": "Python 3",
   "language": "python",
   "name": "python3"
  },
  "language_info": {
   "codemirror_mode": {
    "name": "ipython",
    "version": 3
   },
   "file_extension": ".py",
   "mimetype": "text/x-python",
   "name": "python",
   "nbconvert_exporter": "python",
   "pygments_lexer": "ipython3",
   "version": "3.7.4"
  }
 },
 "nbformat": 4,
 "nbformat_minor": 2
}
